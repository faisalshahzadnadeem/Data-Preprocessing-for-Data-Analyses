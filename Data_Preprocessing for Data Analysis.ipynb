{
  "nbformat": 4,
  "nbformat_minor": 0,
  "metadata": {
    "colab": {
      "provenance": []
    },
    "kernelspec": {
      "name": "python3",
      "display_name": "Python 3"
    },
    "language_info": {
      "name": "python"
    }
  },
  "cells": [
    {
      "cell_type": "code",
      "execution_count": 2,
      "metadata": {
        "id": "CW3OqDQoT7DZ"
      },
      "outputs": [],
      "source": [
        "import pandas as pd\n",
        "import numpy as np"
      ]
    },
    {
      "cell_type": "markdown",
      "source": [
        "# Load Data"
      ],
      "metadata": {
        "id": "p9vsXpiLVfa-"
      }
    },
    {
      "cell_type": "code",
      "source": [
        "df = pd.read_csv('/content/Lending-company (1).csv')\n",
        "df.head()"
      ],
      "metadata": {
        "colab": {
          "base_uri": "https://localhost:8080/",
          "height": 313
        },
        "id": "_U6bnXl5VO3N",
        "outputId": "0e5ee08e-2c25-4ad6-fb15-ed3d5584bf20"
      },
      "execution_count": 5,
      "outputs": [
        {
          "output_type": "execute_result",
          "data": {
            "text/plain": [
              "   LoanID  StringID    Product CustomerGender     Location    Region  \\\n",
              "0       1  LoanID_1  Product B         Female   Location 3  Region 2   \n",
              "1       2  LoanID_2  Product D         Female   Location 6  Region 6   \n",
              "2       3  LoanID_3  Product B           Male   Location 8  Region 3   \n",
              "3       4  LoanID_4  Product A           Male  Location 26  Region 2   \n",
              "4       5  LoanID_5  Product B         Female  Location 34  Region 3   \n",
              "\n",
              "   TotalPrice   StartDate  Deposit  DailyRate  TotalDaysYr  AmtPaid36  \\\n",
              "0     17600.0  04/07/2018     2200         45          365       3221   \n",
              "1         NaN  02/01/2019     2200         45          365       3161   \n",
              "2     16600.0  08/12/2016     1000         45          365       2260   \n",
              "3     17600.0         NaN     2200         45          365       3141   \n",
              "4     21250.0  28/10/2017     2200         55          365       3570   \n",
              "\n",
              "   AmtPaid60  AmtPaid360 LoanStatus  \n",
              "0       4166       14621     Active  \n",
              "1       4096       16041     Active  \n",
              "2       3205       16340        NaN  \n",
              "3       4166       16321     Active  \n",
              "4       4745       14720     Active  "
            ],
            "text/html": [
              "\n",
              "  <div id=\"df-d6ece974-8d26-4a3e-98ce-9e6623d028f2\" class=\"colab-df-container\">\n",
              "    <div>\n",
              "<style scoped>\n",
              "    .dataframe tbody tr th:only-of-type {\n",
              "        vertical-align: middle;\n",
              "    }\n",
              "\n",
              "    .dataframe tbody tr th {\n",
              "        vertical-align: top;\n",
              "    }\n",
              "\n",
              "    .dataframe thead th {\n",
              "        text-align: right;\n",
              "    }\n",
              "</style>\n",
              "<table border=\"1\" class=\"dataframe\">\n",
              "  <thead>\n",
              "    <tr style=\"text-align: right;\">\n",
              "      <th></th>\n",
              "      <th>LoanID</th>\n",
              "      <th>StringID</th>\n",
              "      <th>Product</th>\n",
              "      <th>CustomerGender</th>\n",
              "      <th>Location</th>\n",
              "      <th>Region</th>\n",
              "      <th>TotalPrice</th>\n",
              "      <th>StartDate</th>\n",
              "      <th>Deposit</th>\n",
              "      <th>DailyRate</th>\n",
              "      <th>TotalDaysYr</th>\n",
              "      <th>AmtPaid36</th>\n",
              "      <th>AmtPaid60</th>\n",
              "      <th>AmtPaid360</th>\n",
              "      <th>LoanStatus</th>\n",
              "    </tr>\n",
              "  </thead>\n",
              "  <tbody>\n",
              "    <tr>\n",
              "      <th>0</th>\n",
              "      <td>1</td>\n",
              "      <td>LoanID_1</td>\n",
              "      <td>Product B</td>\n",
              "      <td>Female</td>\n",
              "      <td>Location 3</td>\n",
              "      <td>Region 2</td>\n",
              "      <td>17600.0</td>\n",
              "      <td>04/07/2018</td>\n",
              "      <td>2200</td>\n",
              "      <td>45</td>\n",
              "      <td>365</td>\n",
              "      <td>3221</td>\n",
              "      <td>4166</td>\n",
              "      <td>14621</td>\n",
              "      <td>Active</td>\n",
              "    </tr>\n",
              "    <tr>\n",
              "      <th>1</th>\n",
              "      <td>2</td>\n",
              "      <td>LoanID_2</td>\n",
              "      <td>Product D</td>\n",
              "      <td>Female</td>\n",
              "      <td>Location 6</td>\n",
              "      <td>Region 6</td>\n",
              "      <td>NaN</td>\n",
              "      <td>02/01/2019</td>\n",
              "      <td>2200</td>\n",
              "      <td>45</td>\n",
              "      <td>365</td>\n",
              "      <td>3161</td>\n",
              "      <td>4096</td>\n",
              "      <td>16041</td>\n",
              "      <td>Active</td>\n",
              "    </tr>\n",
              "    <tr>\n",
              "      <th>2</th>\n",
              "      <td>3</td>\n",
              "      <td>LoanID_3</td>\n",
              "      <td>Product B</td>\n",
              "      <td>Male</td>\n",
              "      <td>Location 8</td>\n",
              "      <td>Region 3</td>\n",
              "      <td>16600.0</td>\n",
              "      <td>08/12/2016</td>\n",
              "      <td>1000</td>\n",
              "      <td>45</td>\n",
              "      <td>365</td>\n",
              "      <td>2260</td>\n",
              "      <td>3205</td>\n",
              "      <td>16340</td>\n",
              "      <td>NaN</td>\n",
              "    </tr>\n",
              "    <tr>\n",
              "      <th>3</th>\n",
              "      <td>4</td>\n",
              "      <td>LoanID_4</td>\n",
              "      <td>Product A</td>\n",
              "      <td>Male</td>\n",
              "      <td>Location 26</td>\n",
              "      <td>Region 2</td>\n",
              "      <td>17600.0</td>\n",
              "      <td>NaN</td>\n",
              "      <td>2200</td>\n",
              "      <td>45</td>\n",
              "      <td>365</td>\n",
              "      <td>3141</td>\n",
              "      <td>4166</td>\n",
              "      <td>16321</td>\n",
              "      <td>Active</td>\n",
              "    </tr>\n",
              "    <tr>\n",
              "      <th>4</th>\n",
              "      <td>5</td>\n",
              "      <td>LoanID_5</td>\n",
              "      <td>Product B</td>\n",
              "      <td>Female</td>\n",
              "      <td>Location 34</td>\n",
              "      <td>Region 3</td>\n",
              "      <td>21250.0</td>\n",
              "      <td>28/10/2017</td>\n",
              "      <td>2200</td>\n",
              "      <td>55</td>\n",
              "      <td>365</td>\n",
              "      <td>3570</td>\n",
              "      <td>4745</td>\n",
              "      <td>14720</td>\n",
              "      <td>Active</td>\n",
              "    </tr>\n",
              "  </tbody>\n",
              "</table>\n",
              "</div>\n",
              "    <div class=\"colab-df-buttons\">\n",
              "\n",
              "  <div class=\"colab-df-container\">\n",
              "    <button class=\"colab-df-convert\" onclick=\"convertToInteractive('df-d6ece974-8d26-4a3e-98ce-9e6623d028f2')\"\n",
              "            title=\"Convert this dataframe to an interactive table.\"\n",
              "            style=\"display:none;\">\n",
              "\n",
              "  <svg xmlns=\"http://www.w3.org/2000/svg\" height=\"24px\" viewBox=\"0 -960 960 960\">\n",
              "    <path d=\"M120-120v-720h720v720H120Zm60-500h600v-160H180v160Zm220 220h160v-160H400v160Zm0 220h160v-160H400v160ZM180-400h160v-160H180v160Zm440 0h160v-160H620v160ZM180-180h160v-160H180v160Zm440 0h160v-160H620v160Z\"/>\n",
              "  </svg>\n",
              "    </button>\n",
              "\n",
              "  <style>\n",
              "    .colab-df-container {\n",
              "      display:flex;\n",
              "      gap: 12px;\n",
              "    }\n",
              "\n",
              "    .colab-df-convert {\n",
              "      background-color: #E8F0FE;\n",
              "      border: none;\n",
              "      border-radius: 50%;\n",
              "      cursor: pointer;\n",
              "      display: none;\n",
              "      fill: #1967D2;\n",
              "      height: 32px;\n",
              "      padding: 0 0 0 0;\n",
              "      width: 32px;\n",
              "    }\n",
              "\n",
              "    .colab-df-convert:hover {\n",
              "      background-color: #E2EBFA;\n",
              "      box-shadow: 0px 1px 2px rgba(60, 64, 67, 0.3), 0px 1px 3px 1px rgba(60, 64, 67, 0.15);\n",
              "      fill: #174EA6;\n",
              "    }\n",
              "\n",
              "    .colab-df-buttons div {\n",
              "      margin-bottom: 4px;\n",
              "    }\n",
              "\n",
              "    [theme=dark] .colab-df-convert {\n",
              "      background-color: #3B4455;\n",
              "      fill: #D2E3FC;\n",
              "    }\n",
              "\n",
              "    [theme=dark] .colab-df-convert:hover {\n",
              "      background-color: #434B5C;\n",
              "      box-shadow: 0px 1px 3px 1px rgba(0, 0, 0, 0.15);\n",
              "      filter: drop-shadow(0px 1px 2px rgba(0, 0, 0, 0.3));\n",
              "      fill: #FFFFFF;\n",
              "    }\n",
              "  </style>\n",
              "\n",
              "    <script>\n",
              "      const buttonEl =\n",
              "        document.querySelector('#df-d6ece974-8d26-4a3e-98ce-9e6623d028f2 button.colab-df-convert');\n",
              "      buttonEl.style.display =\n",
              "        google.colab.kernel.accessAllowed ? 'block' : 'none';\n",
              "\n",
              "      async function convertToInteractive(key) {\n",
              "        const element = document.querySelector('#df-d6ece974-8d26-4a3e-98ce-9e6623d028f2');\n",
              "        const dataTable =\n",
              "          await google.colab.kernel.invokeFunction('convertToInteractive',\n",
              "                                                    [key], {});\n",
              "        if (!dataTable) return;\n",
              "\n",
              "        const docLinkHtml = 'Like what you see? Visit the ' +\n",
              "          '<a target=\"_blank\" href=https://colab.research.google.com/notebooks/data_table.ipynb>data table notebook</a>'\n",
              "          + ' to learn more about interactive tables.';\n",
              "        element.innerHTML = '';\n",
              "        dataTable['output_type'] = 'display_data';\n",
              "        await google.colab.output.renderOutput(dataTable, element);\n",
              "        const docLink = document.createElement('div');\n",
              "        docLink.innerHTML = docLinkHtml;\n",
              "        element.appendChild(docLink);\n",
              "      }\n",
              "    </script>\n",
              "  </div>\n",
              "\n",
              "\n",
              "<div id=\"df-7a6ebad7-b176-44c0-8a77-46ef5678558f\">\n",
              "  <button class=\"colab-df-quickchart\" onclick=\"quickchart('df-7a6ebad7-b176-44c0-8a77-46ef5678558f')\"\n",
              "            title=\"Suggest charts\"\n",
              "            style=\"display:none;\">\n",
              "\n",
              "<svg xmlns=\"http://www.w3.org/2000/svg\" height=\"24px\"viewBox=\"0 0 24 24\"\n",
              "     width=\"24px\">\n",
              "    <g>\n",
              "        <path d=\"M19 3H5c-1.1 0-2 .9-2 2v14c0 1.1.9 2 2 2h14c1.1 0 2-.9 2-2V5c0-1.1-.9-2-2-2zM9 17H7v-7h2v7zm4 0h-2V7h2v10zm4 0h-2v-4h2v4z\"/>\n",
              "    </g>\n",
              "</svg>\n",
              "  </button>\n",
              "\n",
              "<style>\n",
              "  .colab-df-quickchart {\n",
              "      --bg-color: #E8F0FE;\n",
              "      --fill-color: #1967D2;\n",
              "      --hover-bg-color: #E2EBFA;\n",
              "      --hover-fill-color: #174EA6;\n",
              "      --disabled-fill-color: #AAA;\n",
              "      --disabled-bg-color: #DDD;\n",
              "  }\n",
              "\n",
              "  [theme=dark] .colab-df-quickchart {\n",
              "      --bg-color: #3B4455;\n",
              "      --fill-color: #D2E3FC;\n",
              "      --hover-bg-color: #434B5C;\n",
              "      --hover-fill-color: #FFFFFF;\n",
              "      --disabled-bg-color: #3B4455;\n",
              "      --disabled-fill-color: #666;\n",
              "  }\n",
              "\n",
              "  .colab-df-quickchart {\n",
              "    background-color: var(--bg-color);\n",
              "    border: none;\n",
              "    border-radius: 50%;\n",
              "    cursor: pointer;\n",
              "    display: none;\n",
              "    fill: var(--fill-color);\n",
              "    height: 32px;\n",
              "    padding: 0;\n",
              "    width: 32px;\n",
              "  }\n",
              "\n",
              "  .colab-df-quickchart:hover {\n",
              "    background-color: var(--hover-bg-color);\n",
              "    box-shadow: 0 1px 2px rgba(60, 64, 67, 0.3), 0 1px 3px 1px rgba(60, 64, 67, 0.15);\n",
              "    fill: var(--button-hover-fill-color);\n",
              "  }\n",
              "\n",
              "  .colab-df-quickchart-complete:disabled,\n",
              "  .colab-df-quickchart-complete:disabled:hover {\n",
              "    background-color: var(--disabled-bg-color);\n",
              "    fill: var(--disabled-fill-color);\n",
              "    box-shadow: none;\n",
              "  }\n",
              "\n",
              "  .colab-df-spinner {\n",
              "    border: 2px solid var(--fill-color);\n",
              "    border-color: transparent;\n",
              "    border-bottom-color: var(--fill-color);\n",
              "    animation:\n",
              "      spin 1s steps(1) infinite;\n",
              "  }\n",
              "\n",
              "  @keyframes spin {\n",
              "    0% {\n",
              "      border-color: transparent;\n",
              "      border-bottom-color: var(--fill-color);\n",
              "      border-left-color: var(--fill-color);\n",
              "    }\n",
              "    20% {\n",
              "      border-color: transparent;\n",
              "      border-left-color: var(--fill-color);\n",
              "      border-top-color: var(--fill-color);\n",
              "    }\n",
              "    30% {\n",
              "      border-color: transparent;\n",
              "      border-left-color: var(--fill-color);\n",
              "      border-top-color: var(--fill-color);\n",
              "      border-right-color: var(--fill-color);\n",
              "    }\n",
              "    40% {\n",
              "      border-color: transparent;\n",
              "      border-right-color: var(--fill-color);\n",
              "      border-top-color: var(--fill-color);\n",
              "    }\n",
              "    60% {\n",
              "      border-color: transparent;\n",
              "      border-right-color: var(--fill-color);\n",
              "    }\n",
              "    80% {\n",
              "      border-color: transparent;\n",
              "      border-right-color: var(--fill-color);\n",
              "      border-bottom-color: var(--fill-color);\n",
              "    }\n",
              "    90% {\n",
              "      border-color: transparent;\n",
              "      border-bottom-color: var(--fill-color);\n",
              "    }\n",
              "  }\n",
              "</style>\n",
              "\n",
              "  <script>\n",
              "    async function quickchart(key) {\n",
              "      const quickchartButtonEl =\n",
              "        document.querySelector('#' + key + ' button');\n",
              "      quickchartButtonEl.disabled = true;  // To prevent multiple clicks.\n",
              "      quickchartButtonEl.classList.add('colab-df-spinner');\n",
              "      try {\n",
              "        const charts = await google.colab.kernel.invokeFunction(\n",
              "            'suggestCharts', [key], {});\n",
              "      } catch (error) {\n",
              "        console.error('Error during call to suggestCharts:', error);\n",
              "      }\n",
              "      quickchartButtonEl.classList.remove('colab-df-spinner');\n",
              "      quickchartButtonEl.classList.add('colab-df-quickchart-complete');\n",
              "    }\n",
              "    (() => {\n",
              "      let quickchartButtonEl =\n",
              "        document.querySelector('#df-7a6ebad7-b176-44c0-8a77-46ef5678558f button');\n",
              "      quickchartButtonEl.style.display =\n",
              "        google.colab.kernel.accessAllowed ? 'block' : 'none';\n",
              "    })();\n",
              "  </script>\n",
              "</div>\n",
              "\n",
              "    </div>\n",
              "  </div>\n"
            ],
            "application/vnd.google.colaboratory.intrinsic+json": {
              "type": "dataframe",
              "variable_name": "df",
              "summary": "{\n  \"name\": \"df\",\n  \"rows\": 1043,\n  \"fields\": [\n    {\n      \"column\": \"LoanID\",\n      \"properties\": {\n        \"dtype\": \"number\",\n        \"std\": 301,\n        \"min\": 1,\n        \"max\": 1043,\n        \"num_unique_values\": 1043,\n        \"samples\": [\n          1036,\n          281,\n          536\n        ],\n        \"semantic_type\": \"\",\n        \"description\": \"\"\n      }\n    },\n    {\n      \"column\": \"StringID\",\n      \"properties\": {\n        \"dtype\": \"string\",\n        \"num_unique_values\": 1043,\n        \"samples\": [\n          \"LoanID_1036\",\n          \"LoanID_281\",\n          \"LoanID_536\"\n        ],\n        \"semantic_type\": \"\",\n        \"description\": \"\"\n      }\n    },\n    {\n      \"column\": \"Product\",\n      \"properties\": {\n        \"dtype\": \"category\",\n        \"num_unique_values\": 6,\n        \"samples\": [\n          \"Product B\",\n          \"Product D\",\n          \"Product F\"\n        ],\n        \"semantic_type\": \"\",\n        \"description\": \"\"\n      }\n    },\n    {\n      \"column\": \"CustomerGender\",\n      \"properties\": {\n        \"dtype\": \"category\",\n        \"num_unique_values\": 3,\n        \"samples\": [\n          \"Female\",\n          \"Male\",\n          \"NotSpecified\"\n        ],\n        \"semantic_type\": \"\",\n        \"description\": \"\"\n      }\n    },\n    {\n      \"column\": \"Location\",\n      \"properties\": {\n        \"dtype\": \"category\",\n        \"num_unique_values\": 296,\n        \"samples\": [\n          \"Location 612\",\n          \"Location 168\",\n          \"Location 23\"\n        ],\n        \"semantic_type\": \"\",\n        \"description\": \"\"\n      }\n    },\n    {\n      \"column\": \"Region\",\n      \"properties\": {\n        \"dtype\": \"category\",\n        \"num_unique_values\": 18,\n        \"samples\": [\n          \"Region 2\",\n          \"Region 6\",\n          \"Region 12\"\n        ],\n        \"semantic_type\": \"\",\n        \"description\": \"\"\n      }\n    },\n    {\n      \"column\": \"TotalPrice\",\n      \"properties\": {\n        \"dtype\": \"number\",\n        \"std\": 5955.588064652945,\n        \"min\": 13475.0,\n        \"max\": 70225.0,\n        \"num_unique_values\": 24,\n        \"samples\": [\n          14775.0,\n          54325.0,\n          17600.0\n        ],\n        \"semantic_type\": \"\",\n        \"description\": \"\"\n      }\n    },\n    {\n      \"column\": \"StartDate\",\n      \"properties\": {\n        \"dtype\": \"string\",\n        \"num_unique_values\": 742,\n        \"samples\": [\n          \"30/07/2020\",\n          \"27/03/2020\",\n          \"15/12/2016\"\n        ],\n        \"semantic_type\": \"\",\n        \"description\": \"\"\n      }\n    },\n    {\n      \"column\": \"Deposit\",\n      \"properties\": {\n        \"dtype\": \"number\",\n        \"std\": 1504,\n        \"min\": 1000,\n        \"max\": 8000,\n        \"num_unique_values\": 5,\n        \"samples\": [\n          1000,\n          8000,\n          5000\n        ],\n        \"semantic_type\": \"\",\n        \"description\": \"\"\n      }\n    },\n    {\n      \"column\": \"DailyRate\",\n      \"properties\": {\n        \"dtype\": \"number\",\n        \"std\": 11,\n        \"min\": 30,\n        \"max\": 150,\n        \"num_unique_values\": 5,\n        \"samples\": [\n          55,\n          30,\n          120\n        ],\n        \"semantic_type\": \"\",\n        \"description\": \"\"\n      }\n    },\n    {\n      \"column\": \"TotalDaysYr\",\n      \"properties\": {\n        \"dtype\": \"number\",\n        \"std\": 0,\n        \"min\": 365,\n        \"max\": 365,\n        \"num_unique_values\": 1,\n        \"samples\": [\n          365\n        ],\n        \"semantic_type\": \"\",\n        \"description\": \"\"\n      }\n    },\n    {\n      \"column\": \"AmtPaid36\",\n      \"properties\": {\n        \"dtype\": \"number\",\n        \"std\": 2537,\n        \"min\": -2770,\n        \"max\": 18851,\n        \"num_unique_values\": 455,\n        \"samples\": [\n          4250\n        ],\n        \"semantic_type\": \"\",\n        \"description\": \"\"\n      }\n    },\n    {\n      \"column\": \"AmtPaid60\",\n      \"properties\": {\n        \"dtype\": \"number\",\n        \"std\": 2850,\n        \"min\": -2945,\n        \"max\": 22143,\n        \"num_unique_values\": 612,\n        \"samples\": [\n          6425\n        ],\n        \"semantic_type\": \"\",\n        \"description\": \"\"\n      }\n    },\n    {\n      \"column\": \"AmtPaid360\",\n      \"properties\": {\n        \"dtype\": \"number\",\n        \"std\": 5910,\n        \"min\": 650,\n        \"max\": 65001,\n        \"num_unique_values\": 458,\n        \"samples\": [\n          17455\n        ],\n        \"semantic_type\": \"\",\n        \"description\": \"\"\n      }\n    },\n    {\n      \"column\": \"LoanStatus\",\n      \"properties\": {\n        \"dtype\": \"category\",\n        \"num_unique_values\": 3,\n        \"samples\": [\n          \"Active\"\n        ],\n        \"semantic_type\": \"\",\n        \"description\": \"\"\n      }\n    }\n  ]\n}"
            }
          },
          "metadata": {},
          "execution_count": 5
        }
      ]
    },
    {
      "cell_type": "markdown",
      "source": [
        "# Drop LoanID and SringsID"
      ],
      "metadata": {
        "id": "Khn0HQR1VjVK"
      }
    },
    {
      "cell_type": "code",
      "source": [
        "df.drop(['LoanID','StringID'],axis=1,inplace=True)"
      ],
      "metadata": {
        "id": "U1oVgA_JViXp"
      },
      "execution_count": 6,
      "outputs": []
    },
    {
      "cell_type": "markdown",
      "source": [
        "# Map the Product categories to numeric data"
      ],
      "metadata": {
        "id": "66aKOjMPWLdy"
      }
    },
    {
      "cell_type": "code",
      "source": [
        "df['Product']=df['Product'].map({'Personal Loan':1,'Mortgage Loan':2,'Student Loan':3})"
      ],
      "metadata": {
        "id": "x8Km_PBDWK4R"
      },
      "execution_count": 7,
      "outputs": []
    },
    {
      "cell_type": "markdown",
      "source": [
        "# Replace Not Specified in the CustomerGender"
      ],
      "metadata": {
        "id": "mhafJMRCWiWY"
      }
    },
    {
      "cell_type": "code",
      "source": [
        "mode_gender = df  ['CustomerGender'].mode()[0]\n",
        "df['CustomerGender'].replace('Not Specified',mode_gender)"
      ],
      "metadata": {
        "colab": {
          "base_uri": "https://localhost:8080/",
          "height": 458
        },
        "id": "0JzXC_1NWqTX",
        "outputId": "408324e9-19c4-4c3e-e3cd-ee7f3cdb6241"
      },
      "execution_count": 8,
      "outputs": [
        {
          "output_type": "execute_result",
          "data": {
            "text/plain": [
              "0             Female\n",
              "1             Female\n",
              "2               Male\n",
              "3               Male\n",
              "4             Female\n",
              "            ...     \n",
              "1038            Male\n",
              "1039            Male\n",
              "1040    NotSpecified\n",
              "1041          Female\n",
              "1042    NotSpecified\n",
              "Name: CustomerGender, Length: 1043, dtype: object"
            ],
            "text/html": [
              "<div>\n",
              "<style scoped>\n",
              "    .dataframe tbody tr th:only-of-type {\n",
              "        vertical-align: middle;\n",
              "    }\n",
              "\n",
              "    .dataframe tbody tr th {\n",
              "        vertical-align: top;\n",
              "    }\n",
              "\n",
              "    .dataframe thead th {\n",
              "        text-align: right;\n",
              "    }\n",
              "</style>\n",
              "<table border=\"1\" class=\"dataframe\">\n",
              "  <thead>\n",
              "    <tr style=\"text-align: right;\">\n",
              "      <th></th>\n",
              "      <th>CustomerGender</th>\n",
              "    </tr>\n",
              "  </thead>\n",
              "  <tbody>\n",
              "    <tr>\n",
              "      <th>0</th>\n",
              "      <td>Female</td>\n",
              "    </tr>\n",
              "    <tr>\n",
              "      <th>1</th>\n",
              "      <td>Female</td>\n",
              "    </tr>\n",
              "    <tr>\n",
              "      <th>2</th>\n",
              "      <td>Male</td>\n",
              "    </tr>\n",
              "    <tr>\n",
              "      <th>3</th>\n",
              "      <td>Male</td>\n",
              "    </tr>\n",
              "    <tr>\n",
              "      <th>4</th>\n",
              "      <td>Female</td>\n",
              "    </tr>\n",
              "    <tr>\n",
              "      <th>...</th>\n",
              "      <td>...</td>\n",
              "    </tr>\n",
              "    <tr>\n",
              "      <th>1038</th>\n",
              "      <td>Male</td>\n",
              "    </tr>\n",
              "    <tr>\n",
              "      <th>1039</th>\n",
              "      <td>Male</td>\n",
              "    </tr>\n",
              "    <tr>\n",
              "      <th>1040</th>\n",
              "      <td>NotSpecified</td>\n",
              "    </tr>\n",
              "    <tr>\n",
              "      <th>1041</th>\n",
              "      <td>Female</td>\n",
              "    </tr>\n",
              "    <tr>\n",
              "      <th>1042</th>\n",
              "      <td>NotSpecified</td>\n",
              "    </tr>\n",
              "  </tbody>\n",
              "</table>\n",
              "<p>1043 rows × 1 columns</p>\n",
              "</div><br><label><b>dtype:</b> object</label>"
            ]
          },
          "metadata": {},
          "execution_count": 8
        }
      ]
    },
    {
      "cell_type": "code",
      "source": [
        "df['Location']=df['Location'].map({1:'Rural',2:'Suburban',3:'Urban'})"
      ],
      "metadata": {
        "id": "ubkUii9ZW_eK"
      },
      "execution_count": 10,
      "outputs": []
    },
    {
      "cell_type": "markdown",
      "source": [
        "# Fill Missing Values"
      ],
      "metadata": {
        "id": "TAD9IWd_XS0C"
      }
    },
    {
      "cell_type": "code",
      "source": [
        "df['TotalPrice'].fillna(df['TotalPrice'].mean(),inplace=True)"
      ],
      "metadata": {
        "colab": {
          "base_uri": "https://localhost:8080/"
        },
        "id": "o1QXv5HfXXzo",
        "outputId": "62a8e7bf-bf01-47fc-ea83-55d28f56f87c"
      },
      "execution_count": 11,
      "outputs": [
        {
          "output_type": "stream",
          "name": "stderr",
          "text": [
            "<ipython-input-11-88312896dcd1>:1: FutureWarning: A value is trying to be set on a copy of a DataFrame or Series through chained assignment using an inplace method.\n",
            "The behavior will change in pandas 3.0. This inplace method will never work because the intermediate object on which we are setting values always behaves as a copy.\n",
            "\n",
            "For example, when doing 'df[col].method(value, inplace=True)', try using 'df.method({col: value}, inplace=True)' or df[col] = df[col].method(value) instead, to perform the operation inplace on the original object.\n",
            "\n",
            "\n",
            "  df['TotalPrice'].fillna(df['TotalPrice'].mean(),inplace=True)\n"
          ]
        }
      ]
    },
    {
      "cell_type": "markdown",
      "source": [
        "# drop all rows with missing StartDate"
      ],
      "metadata": {
        "id": "zcHcIWpYX1eX"
      }
    },
    {
      "cell_type": "code",
      "source": [
        "df.dropna(subset=['StartDate'],inplace=True)"
      ],
      "metadata": {
        "id": "GIPRLCb0X_ns"
      },
      "execution_count": 13,
      "outputs": []
    },
    {
      "cell_type": "markdown",
      "source": [
        "# Extract the month and weekday from StartDate create columns"
      ],
      "metadata": {
        "id": "BSVANf4FYFwo"
      }
    },
    {
      "source": [
        "df['StartDate'] = pd.to_datetime(df['StartDate'], format='%d/%m/%Y') # Specify the correct format for day/month/year\n",
        "df['Month'] = df['StartDate'].dt.month\n",
        "df['Weekday'] = df['StartDate'].dt.day_name()"
      ],
      "cell_type": "code",
      "metadata": {
        "id": "jeurs837YtcO"
      },
      "execution_count": 17,
      "outputs": []
    },
    {
      "cell_type": "markdown",
      "source": [
        "# Drop the StartDate"
      ],
      "metadata": {
        "id": "f1G-KuPAYzyi"
      }
    },
    {
      "cell_type": "code",
      "source": [
        "df.drop ('StartDate',axis=1,inplace=True)"
      ],
      "metadata": {
        "id": "npozrY6KY3qe"
      },
      "execution_count": 18,
      "outputs": []
    },
    {
      "cell_type": "markdown",
      "source": [
        "#Examine the totalDaysYr"
      ],
      "metadata": {
        "id": "0xOy4vhTY-30"
      }
    },
    {
      "cell_type": "code",
      "source": [
        "print(df['TotalDaysYr'].describe())"
      ],
      "metadata": {
        "colab": {
          "base_uri": "https://localhost:8080/"
        },
        "id": "CCDN0DnSY-Fg",
        "outputId": "9836174b-a4ae-4edb-a03d-c41548497da0"
      },
      "execution_count": 20,
      "outputs": [
        {
          "output_type": "stream",
          "name": "stdout",
          "text": [
            "count    1042.0\n",
            "mean      365.0\n",
            "std         0.0\n",
            "min       365.0\n",
            "25%       365.0\n",
            "50%       365.0\n",
            "75%       365.0\n",
            "max       365.0\n",
            "Name: TotalDaysYr, dtype: float64\n"
          ]
        }
      ]
    },
    {
      "cell_type": "markdown",
      "source": [
        "# Drop all rows with missing LoanStatus values"
      ],
      "metadata": {
        "id": "Jm60qkPHZWAk"
      }
    },
    {
      "cell_type": "code",
      "source": [
        "df.dropna (subset=['LoanStatus'],inplace=True)\n",
        "df = df[df['LoanStatus'] != 'Blocked']"
      ],
      "metadata": {
        "id": "kS75TYuLZVk3"
      },
      "execution_count": 21,
      "outputs": []
    },
    {
      "cell_type": "markdown",
      "source": [
        "# Map Active to 0 and Finished Payment to 1 in LoanStatus"
      ],
      "metadata": {
        "id": "21GSga_OZ3Xe"
      }
    },
    {
      "cell_type": "code",
      "source": [
        "df['LoanStatus'] = df['LoanStatus'].map({'Active':0,'Finished Payment':1})"
      ],
      "metadata": {
        "colab": {
          "base_uri": "https://localhost:8080/"
        },
        "id": "rytRydIwaDvK",
        "outputId": "515b5314-0449-43ef-a6c2-7fd486a241f2"
      },
      "execution_count": 22,
      "outputs": [
        {
          "output_type": "stream",
          "name": "stderr",
          "text": [
            "<ipython-input-22-b74affd5ed89>:1: SettingWithCopyWarning: \n",
            "A value is trying to be set on a copy of a slice from a DataFrame.\n",
            "Try using .loc[row_indexer,col_indexer] = value instead\n",
            "\n",
            "See the caveats in the documentation: https://pandas.pydata.org/pandas-docs/stable/user_guide/indexing.html#returning-a-view-versus-a-copy\n",
            "  df['LoanStatus'] = df['LoanStatus'].map({'Active':0,'Finished Payment':1})\n"
          ]
        }
      ]
    },
    {
      "cell_type": "markdown",
      "source": [
        "save the cleaned data"
      ],
      "metadata": {
        "id": "XfBrm5JTaLyU"
      }
    },
    {
      "cell_type": "code",
      "source": [
        "df.to_csv('cleaned_data.csv',index=False)"
      ],
      "metadata": {
        "id": "W1DkBFXFaK6X"
      },
      "execution_count": 23,
      "outputs": []
    }
  ]
}